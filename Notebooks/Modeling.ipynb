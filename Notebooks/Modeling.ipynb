{
 "cells": [
  {
   "cell_type": "code",
   "execution_count": 176,
   "metadata": {},
   "outputs": [
    {
     "name": "stdout",
     "output_type": "stream",
     "text": [
      "The autoreload extension is already loaded. To reload it, use:\n",
      "  %reload_ext autoreload\n"
     ]
    }
   ],
   "source": [
    "import os\n",
    "os.chdir(os.environ.get('PROJECT_PATH'))\n",
    "import numpy as np\n",
    "import pandas as pd\n",
    "import matplotlib.pyplot as plt\n",
    "import seaborn as sns\n",
    "from traindelays.ml_logic import preprocess as p\n",
    "from traindelays import utils as u\n",
    "from traindelays.params import *\n",
    "from sklearn.linear_model import LinearRegression\n",
    "from sklearn.model_selection import cross_val_score, KFold\n",
    "from sklearn.metrics import mean_squared_error, make_scorer\n",
    "from sklearn.dummy import DummyRegressor\n",
    "\n",
    "\n",
    "%load_ext autoreload\n",
    "%autoreload 2"
   ]
  },
  {
   "cell_type": "markdown",
   "metadata": {},
   "source": [
    "**Table of contents**<a id='toc0_'></a>    \n",
    "- [Features Construction](#toc1_)    \n",
    "  - [Loading the Data](#toc1_1_)    \n",
    "  - [Temporal Features](#toc1_2_)    \n",
    "  - [Geographical Features](#toc1_3_)    \n",
    "  - [Categorical features](#toc1_4_)    \n",
    "\n",
    "<!-- vscode-jupyter-toc-config\n",
    "\tnumbering=false\n",
    "\tanchor=true\n",
    "\tflat=false\n",
    "\tminLevel=1\n",
    "\tmaxLevel=6\n",
    "\t/vscode-jupyter-toc-config -->\n",
    "<!-- THIS CELL WILL BE REPLACED ON TOC UPDATE. DO NOT WRITE YOUR TEXT IN THIS CELL -->"
   ]
  },
  {
   "cell_type": "markdown",
   "metadata": {},
   "source": [
    "## <a id='toc1_1_'></a>[Loading the Data](#toc0_)"
   ]
  },
  {
   "cell_type": "markdown",
   "metadata": {},
   "source": [
    "Loading whole dataset from Google Cloud Platform."
   ]
  },
  {
   "cell_type": "code",
   "execution_count": 93,
   "metadata": {},
   "outputs": [
    {
     "data": {
      "text/html": [
       "<div>\n",
       "<style scoped>\n",
       "    .dataframe tbody tr th:only-of-type {\n",
       "        vertical-align: middle;\n",
       "    }\n",
       "\n",
       "    .dataframe tbody tr th {\n",
       "        vertical-align: top;\n",
       "    }\n",
       "\n",
       "    .dataframe thead th {\n",
       "        text-align: right;\n",
       "    }\n",
       "</style>\n",
       "<table border=\"1\" class=\"dataframe\">\n",
       "  <thead>\n",
       "    <tr style=\"text-align: right;\">\n",
       "      <th></th>\n",
       "      <th>FINANCIAL_YEAR_AND_PERIOD</th>\n",
       "      <th>ORIGIN_DEPARTURE_DATE</th>\n",
       "      <th>TRUST_TRAIN_ID_AFFECTED</th>\n",
       "      <th>PLANNED_ORIG_LOC_CODE_AFF</th>\n",
       "      <th>PLANNED_ORIG_WTT_DATETIME_AFF</th>\n",
       "      <th>PLANNED_ORIG_GBTT_DATETIME_AFF</th>\n",
       "      <th>PLANNED_DEST_LOC_CODE_AFFECTED</th>\n",
       "      <th>PLANNED_DEST_WTT_DATETIME_AFF</th>\n",
       "      <th>PLANNED_DEST_GBTT_DATETIME_AFF</th>\n",
       "      <th>TRAIN_SERVICE_CODE_AFFECTED</th>\n",
       "      <th>...</th>\n",
       "      <th>INCIDENT_EQUIPMENT</th>\n",
       "      <th>INCIDENT_DESCRIPTION</th>\n",
       "      <th>REACTIONARY_REASON_CODE</th>\n",
       "      <th>INCIDENT_RESPONSIBLE_TRAIN</th>\n",
       "      <th>RESP_TRAIN</th>\n",
       "      <th>REACT_TRAIN</th>\n",
       "      <th>START_STANOX</th>\n",
       "      <th>END_STANOX</th>\n",
       "      <th>EVENT_DATETIME</th>\n",
       "      <th>PFPI_MINUTES</th>\n",
       "    </tr>\n",
       "  </thead>\n",
       "  <tbody>\n",
       "    <tr>\n",
       "      <th>0</th>\n",
       "      <td>2021/22_P04</td>\n",
       "      <td>03-Jul-21</td>\n",
       "      <td>722C28MK03</td>\n",
       "      <td>72000</td>\n",
       "      <td>2021-03-07 12:15:00+00:00</td>\n",
       "      <td>2021-03-07 12:15:00+00:00</td>\n",
       "      <td>72410</td>\n",
       "      <td>2021-03-07 13:05:00+00:00</td>\n",
       "      <td>2021-03-07 13:05:00+00:00</td>\n",
       "      <td>22216000</td>\n",
       "      <td>...</td>\n",
       "      <td>221108</td>\n",
       "      <td>9M50 3 LATE START EDB</td>\n",
       "      <td>YD</td>\n",
       "      <td>None</td>\n",
       "      <td>None</td>\n",
       "      <td>361A27MH03</td>\n",
       "      <td>72311</td>\n",
       "      <td>72410</td>\n",
       "      <td>2021-03-07 13:09:00+00:00</td>\n",
       "      <td>4.0</td>\n",
       "    </tr>\n",
       "    <tr>\n",
       "      <th>1</th>\n",
       "      <td>2019/20_P12</td>\n",
       "      <td>05-Feb-20</td>\n",
       "      <td>522Y48M805</td>\n",
       "      <td>52226</td>\n",
       "      <td>2020-05-02 22:14:00+00:00</td>\n",
       "      <td>2020-05-02 22:14:00+00:00</td>\n",
       "      <td>87219</td>\n",
       "      <td>2020-05-02 23:21:00+00:00</td>\n",
       "      <td>2020-05-02 23:21:00+00:00</td>\n",
       "      <td>22214000</td>\n",
       "      <td>...</td>\n",
       "      <td>334014</td>\n",
       "      <td>2C28 UNIT FLT WES</td>\n",
       "      <td>YI</td>\n",
       "      <td>2C28</td>\n",
       "      <td>062C28MI05</td>\n",
       "      <td>872N45M705</td>\n",
       "      <td>52226</td>\n",
       "      <td>52226</td>\n",
       "      <td>2020-05-02 22:23:00+00:00</td>\n",
       "      <td>9.0</td>\n",
       "    </tr>\n",
       "    <tr>\n",
       "      <th>2</th>\n",
       "      <td>2019/20_P12</td>\n",
       "      <td>05-Feb-20</td>\n",
       "      <td>522N36MY05</td>\n",
       "      <td>52226</td>\n",
       "      <td>2020-05-02 19:59:00+00:00</td>\n",
       "      <td>2020-05-02 19:59:00+00:00</td>\n",
       "      <td>87132</td>\n",
       "      <td>2020-05-02 21:01:00+00:00</td>\n",
       "      <td>2020-05-02 21:01:00+00:00</td>\n",
       "      <td>22214000</td>\n",
       "      <td>...</td>\n",
       "      <td>334014</td>\n",
       "      <td>2C28 UNIT FLT WES</td>\n",
       "      <td>YD</td>\n",
       "      <td>2C28</td>\n",
       "      <td>062C28MI05</td>\n",
       "      <td>516V35CX05</td>\n",
       "      <td>52226</td>\n",
       "      <td>52045</td>\n",
       "      <td>2020-05-02 20:12:00+00:00</td>\n",
       "      <td>4.0</td>\n",
       "    </tr>\n",
       "    <tr>\n",
       "      <th>3</th>\n",
       "      <td>2019/20_P12</td>\n",
       "      <td>05-Feb-20</td>\n",
       "      <td>522Y28MY05</td>\n",
       "      <td>52226</td>\n",
       "      <td>2020-05-02 19:53:00+00:00</td>\n",
       "      <td>2020-05-02 19:53:00+00:00</td>\n",
       "      <td>87219</td>\n",
       "      <td>2020-05-02 20:54:00+00:00</td>\n",
       "      <td>2020-05-02 20:55:00+00:00</td>\n",
       "      <td>22214000</td>\n",
       "      <td>...</td>\n",
       "      <td>334014</td>\n",
       "      <td>2C28 UNIT FLT WES</td>\n",
       "      <td>YI</td>\n",
       "      <td>2C28</td>\n",
       "      <td>062C28MI05</td>\n",
       "      <td>872N23MX05</td>\n",
       "      <td>52226</td>\n",
       "      <td>52226</td>\n",
       "      <td>2020-05-02 19:55:00+00:00</td>\n",
       "      <td>2.0</td>\n",
       "    </tr>\n",
       "    <tr>\n",
       "      <th>4</th>\n",
       "      <td>2019/20_P12</td>\n",
       "      <td>05-Feb-20</td>\n",
       "      <td>872N23MX05</td>\n",
       "      <td>87132</td>\n",
       "      <td>2020-05-02 18:45:00+00:00</td>\n",
       "      <td>2020-05-02 18:45:00+00:00</td>\n",
       "      <td>52226</td>\n",
       "      <td>2020-05-02 19:47:00+00:00</td>\n",
       "      <td>2020-05-02 19:47:00+00:00</td>\n",
       "      <td>22214000</td>\n",
       "      <td>...</td>\n",
       "      <td>334014</td>\n",
       "      <td>2C28 UNIT FLT WES</td>\n",
       "      <td>YB</td>\n",
       "      <td>2C28</td>\n",
       "      <td>062C28MI05</td>\n",
       "      <td>664L57CL05</td>\n",
       "      <td>72419</td>\n",
       "      <td>72421</td>\n",
       "      <td>2020-05-02 19:27:00+00:00</td>\n",
       "      <td>3.0</td>\n",
       "    </tr>\n",
       "  </tbody>\n",
       "</table>\n",
       "<p>5 rows × 36 columns</p>\n",
       "</div>"
      ],
      "text/plain": [
       "  FINANCIAL_YEAR_AND_PERIOD ORIGIN_DEPARTURE_DATE TRUST_TRAIN_ID_AFFECTED  \\\n",
       "0               2021/22_P04             03-Jul-21              722C28MK03   \n",
       "1               2019/20_P12             05-Feb-20              522Y48M805   \n",
       "2               2019/20_P12             05-Feb-20              522N36MY05   \n",
       "3               2019/20_P12             05-Feb-20              522Y28MY05   \n",
       "4               2019/20_P12             05-Feb-20              872N23MX05   \n",
       "\n",
       "   PLANNED_ORIG_LOC_CODE_AFF PLANNED_ORIG_WTT_DATETIME_AFF  \\\n",
       "0                      72000     2021-03-07 12:15:00+00:00   \n",
       "1                      52226     2020-05-02 22:14:00+00:00   \n",
       "2                      52226     2020-05-02 19:59:00+00:00   \n",
       "3                      52226     2020-05-02 19:53:00+00:00   \n",
       "4                      87132     2020-05-02 18:45:00+00:00   \n",
       "\n",
       "  PLANNED_ORIG_GBTT_DATETIME_AFF  PLANNED_DEST_LOC_CODE_AFFECTED  \\\n",
       "0      2021-03-07 12:15:00+00:00                           72410   \n",
       "1      2020-05-02 22:14:00+00:00                           87219   \n",
       "2      2020-05-02 19:59:00+00:00                           87132   \n",
       "3      2020-05-02 19:53:00+00:00                           87219   \n",
       "4      2020-05-02 18:45:00+00:00                           52226   \n",
       "\n",
       "  PLANNED_DEST_WTT_DATETIME_AFF PLANNED_DEST_GBTT_DATETIME_AFF  \\\n",
       "0     2021-03-07 13:05:00+00:00      2021-03-07 13:05:00+00:00   \n",
       "1     2020-05-02 23:21:00+00:00      2020-05-02 23:21:00+00:00   \n",
       "2     2020-05-02 21:01:00+00:00      2020-05-02 21:01:00+00:00   \n",
       "3     2020-05-02 20:54:00+00:00      2020-05-02 20:55:00+00:00   \n",
       "4     2020-05-02 19:47:00+00:00      2020-05-02 19:47:00+00:00   \n",
       "\n",
       "  TRAIN_SERVICE_CODE_AFFECTED  ... INCIDENT_EQUIPMENT   INCIDENT_DESCRIPTION  \\\n",
       "0                    22216000  ...             221108  9M50 3 LATE START EDB   \n",
       "1                    22214000  ...             334014      2C28 UNIT FLT WES   \n",
       "2                    22214000  ...             334014      2C28 UNIT FLT WES   \n",
       "3                    22214000  ...             334014      2C28 UNIT FLT WES   \n",
       "4                    22214000  ...             334014      2C28 UNIT FLT WES   \n",
       "\n",
       "  REACTIONARY_REASON_CODE INCIDENT_RESPONSIBLE_TRAIN  RESP_TRAIN REACT_TRAIN  \\\n",
       "0                      YD                       None        None  361A27MH03   \n",
       "1                      YI                       2C28  062C28MI05  872N45M705   \n",
       "2                      YD                       2C28  062C28MI05  516V35CX05   \n",
       "3                      YI                       2C28  062C28MI05  872N23MX05   \n",
       "4                      YB                       2C28  062C28MI05  664L57CL05   \n",
       "\n",
       "  START_STANOX END_STANOX            EVENT_DATETIME PFPI_MINUTES  \n",
       "0        72311      72410 2021-03-07 13:09:00+00:00          4.0  \n",
       "1        52226      52226 2020-05-02 22:23:00+00:00          9.0  \n",
       "2        52226      52045 2020-05-02 20:12:00+00:00          4.0  \n",
       "3        52226      52226 2020-05-02 19:55:00+00:00          2.0  \n",
       "4        72419      72421 2020-05-02 19:27:00+00:00          3.0  \n",
       "\n",
       "[5 rows x 36 columns]"
      ]
     },
     "execution_count": 93,
     "metadata": {},
     "output_type": "execute_result"
    }
   ],
   "source": [
    "df = u.read_data_from_bq(credentials=SERVICE_ACCOUNT,gcp_project=GCP_PROJECT,bq_dataset=BQ_DATASET,table=RAIL_DATA_TABLE_ID)\n",
    "df.head()"
   ]
  },
  {
   "cell_type": "markdown",
   "metadata": {},
   "source": [
    "Data is splitted according to their index, in order to have a stable train/test split."
   ]
  },
  {
   "cell_type": "code",
   "execution_count": 148,
   "metadata": {},
   "outputs": [],
   "source": [
    "train, test = u.split_train_test_by_id(data = df, test_ratio = 0.33, id_column = 'index')\n",
    "X_train =train.drop(columns=['PFPI_MINUTES'])\n",
    "X_test = test.drop(columns=['PFPI_MINUTES'])\n",
    "y_train = train['PFPI_MINUTES']\n",
    "y_test = test['PFPI_MINUTES']"
   ]
  },
  {
   "cell_type": "markdown",
   "metadata": {},
   "source": [
    "The features are preprocessed."
   ]
  },
  {
   "cell_type": "code",
   "execution_count": 149,
   "metadata": {},
   "outputs": [],
   "source": [
    "p.pipe.fit(X_train)\n",
    "X_train_preproc =p.pipe.transform(X_train)\n",
    "X_test_preproc =  p.pipe.transform(X_test)"
   ]
  },
  {
   "cell_type": "markdown",
   "metadata": {},
   "source": [
    "Inspecting the dependant variable"
   ]
  },
  {
   "cell_type": "code",
   "execution_count": 151,
   "metadata": {},
   "outputs": [
    {
     "data": {
      "image/png": "[encoded data removed]",
      "text/plain": [
       "<Figure size 1200x600 with 1 Axes>"
      ]
     },
     "metadata": {},
     "output_type": "display_data"
    }
   ],
   "source": [
    "sns.displot(data=y_train, bins = 20, kde=True, color='skyblue', height=6, aspect=2)\n",
    "plt.title('Distribution of Delay in minutes')\n",
    "plt.ylabel('Frequency')\n",
    "plt.show()\n"
   ]
  },
  {
   "cell_type": "markdown",
   "metadata": {},
   "source": [
    "## Dummy model"
   ]
  },
  {
   "cell_type": "code",
   "execution_count": 174,
   "metadata": {},
   "outputs": [
    {
     "name": "stdout",
     "output_type": "stream",
     "text": [
      "Mean RMSE: 2.154574297736384\n",
      "All folds RMSEs: [2.15157983 2.15286926 2.16013715 2.16724982 2.14112464]\n"
     ]
    }
   ],
   "source": [
    "dummy_model = DummyRegressor(strategy=\"mean\")\n",
    "# Define a custom scoring function for RMSE\n",
    "def rmse_scorer(y_true, y_pred):\n",
    "    return np.sqrt(mean_squared_error(y_true, y_pred))\n",
    "\n",
    "# Perform cross-validation using RMSE as the scoring metric\n",
    "cv_scores = cross_val_score(dummy_model, X_train_preproc, np.log(y_train), cv=5, scoring=make_scorer(rmse_scorer))\n",
    "\n",
    "# Print the mean and standard deviation of the RMSE scores\n",
    "print(f'Mean RMSE: {np.exp(np.mean(cv_scores))}')\n",
    "print(f'All folds RMSEs: {np.exp(cv_scores)}')"
   ]
  },
  {
   "cell_type": "markdown",
   "metadata": {},
   "source": [
    "## Baseline Model"
   ]
  },
  {
   "cell_type": "code",
   "execution_count": 175,
   "metadata": {},
   "outputs": [
    {
     "name": "stdout",
     "output_type": "stream",
     "text": [
      "Mean RMSE: 1.8520509705973125\n",
      "All folds RMSEs: [1.84641514 1.85625762 1.85180734 1.86084427 1.84497821]\n"
     ]
    }
   ],
   "source": [
    "baseline_model = LinearRegression()\n",
    "\n",
    "# Perform cross-validation using RMSE as the scoring metric\n",
    "cv_scores = cross_val_score(baseline_model, X_train_preproc, np.log(y_train), cv=5, scoring=make_scorer(rmse_scorer))\n",
    "\n",
    "# Print the mean and standard deviation of the RMSE scores\n",
    "print(f'Mean RMSE: {np.exp(np.mean(cv_scores))}')\n",
    "print(f'All folds RMSEs: {np.exp(cv_scores)}')"
   ]
  }
 ],
 "metadata": {
  "kernelspec": {
   "display_name": "TrainDelays",
   "language": "python",
   "name": "python3"
  },
  "language_info": {
   "codemirror_mode": {
    "name": "ipython",
    "version": 3
   },
   "file_extension": ".py",
   "mimetype": "text/x-python",
   "name": "python",
   "nbconvert_exporter": "python",
   "pygments_lexer": "ipython3",
   "version": "3.10.6"
  }
 },
 "nbformat": 4,
 "nbformat_minor": 2
}
