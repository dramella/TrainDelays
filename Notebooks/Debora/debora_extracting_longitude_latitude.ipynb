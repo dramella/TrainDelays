{
 "cells": [
  {
   "cell_type": "markdown",
   "metadata": {},
   "source": [
    "# TOC"
   ]
  },
  {
   "cell_type": "markdown",
   "metadata": {},
   "source": [
    "## Libraries"
   ]
  },
  {
   "cell_type": "code",
   "execution_count": 17,
   "metadata": {},
   "outputs": [],
   "source": [
    "import re\n",
    "import numpy as np\n",
    "import pandas as pd\n",
    "import pandas as pd\n",
    "import numpy as np\n",
    "from sklearn.preprocessing import OneHotEncoder, StandardScaler\n"
   ]
  },
  {
   "cell_type": "markdown",
   "metadata": {},
   "source": [
    "# Preprocessing function"
   ]
  },
  {
   "cell_type": "code",
   "execution_count": 3,
   "metadata": {},
   "outputs": [],
   "source": [
    "def process_2019(df):\n",
    "    # Basic Data Cleaning\n",
    "    df.drop(columns=['TRAILING_LOAD_AFFECTED','TIMING_LOAD_AFFECTED', 'UNIT_CLASS_AFFECTED',\n",
    "                     'INCIDENT_EQUIPMENT','TRUST_TRAIN_ID_REACT','TRUST_TRAIN_ID_RESP',\n",
    "                     'FINANCIAL_YEAR_AND_PERIOD',\n",
    "                     'PLANNED_DEST_WTT_DATETIME_AFF',\n",
    "                     'PLANNED_ORIG_GBTT_DATETIME_AFF',\n",
    "                     'PLANNED_ORIG_WTT_DATETIME_AFF',\n",
    "                     'PLANNED_DEST_GBTT_DATETIME_AFF',\n",
    "                     'PLANNED_DEST_WTT_DATETIME_AFF',\n",
    "                     'TRAIN_SCHEDULE_TYPE_AFFECTED',\n",
    "                     'TRACTION_TYPE_AFFECTED',\n",
    "                     'INCIDENT_NUMBER',\n",
    "                     'INCIDENT_CREATE_DATE', 'INCIDENT_START_DATETIME',\n",
    "                     'INCIDENT_END_DATETIME', 'SECTION_CODE',\n",
    "                     'NETWORK_RAIL_LOCATION_MANAGER', 'RESPONSIBLE_MANAGER',\n",
    "                     'ATTRIBUTION_STATUS',\n",
    "                     'INCIDENT_DESCRIPTION', 'REACTIONARY_REASON_CODE',\n",
    "                     'INCIDENT_RESPONSIBLE_TRAIN', 'EVENT_DATETIME',\n",
    "                     'TRAIN_SERVICE_CODE_AFFECTED','SERVICE_GROUP_CODE_AFFECTED',\n",
    "                     'APP_TIMETABLE_FLAG_AFF', 'INCIDENT_REASON','START_STANOX','END_STANOX'], inplace=True)\n",
    "    df.dropna(inplace=True)\n",
    "\n",
    "    # Preprocessing of data\n",
    "    data = df[['ENGLISH_DAY_TYPE', 'PERFORMANCE_EVENT_CODE', 'OPERATOR_AFFECTED']]\n",
    "    ohe = OneHotEncoder(sparse=False).fit(data)\n",
    "\n",
    "    df[ohe.get_feature_names_out()] = ohe.transform(data)\n",
    "    df.drop(columns=['ENGLISH_DAY_TYPE', 'PERFORMANCE_EVENT_CODE', 'OPERATOR_AFFECTED','OPERATOR_AFFECTED_ZZ'], inplace=True)\n",
    "    df['CANCELLATIONS'] = df['PERFORMANCE_EVENT_CODE_A'] = df['PERFORMANCE_EVENT_CODE_M']\n",
    "    df['DELAYS'] = df['PERFORMANCE_EVENT_CODE_C'] + df['PERFORMANCE_EVENT_CODE_D'] + df['PERFORMANCE_EVENT_CODE_O'] + df['PERFORMANCE_EVENT_CODE_P'] + df['PERFORMANCE_EVENT_CODE_S'] + df['PERFORMANCE_EVENT_CODE_F']\n",
    "\n",
    "    df.drop(columns=['PERFORMANCE_EVENT_CODE_A', 'PERFORMANCE_EVENT_CODE_C',\n",
    "       'PERFORMANCE_EVENT_CODE_D', 'PERFORMANCE_EVENT_CODE_F',\n",
    "       'PERFORMANCE_EVENT_CODE_M', 'PERFORMANCE_EVENT_CODE_O',\n",
    "       'PERFORMANCE_EVENT_CODE_P', 'PERFORMANCE_EVENT_CODE_S'], inplace=True)\n",
    "\n",
    "    return df\n"
   ]
  },
  {
   "cell_type": "markdown",
   "metadata": {},
   "source": [
    "# Load first chunk of data 2018/2018"
   ]
  },
  {
   "cell_type": "code",
   "execution_count": 4,
   "metadata": {},
   "outputs": [],
   "source": [
    "df = pd.read_csv(\"../raw_data/All Delays 2018-19.csv\")\n"
   ]
  },
  {
   "cell_type": "code",
   "execution_count": 5,
   "metadata": {},
   "outputs": [
    {
     "data": {
      "text/plain": [
       "FINANCIAL_YEAR_AND_PERIOD          object\n",
       "ORIGIN_DEPARTURE_DATE              object\n",
       "TRUST_TRAIN_ID_AFFECTED            object\n",
       "PLANNED_ORIG_LOC_CODE_AFF           int64\n",
       "PLANNED_ORIG_GBTT_DATETIME_AFF     object\n",
       "PLANNED_ORIG_WTT_DATETIME_AFF      object\n",
       "PLANNED_DEST_LOC_CODE_AFFECTED      int64\n",
       "PLANNED_DEST_GBTT_DATETIME_AFF     object\n",
       "PLANNED_DEST_WTT_DATETIME_AFF      object\n",
       "TRAIN_SERVICE_CODE_AFFECTED       float64\n",
       "SERVICE_GROUP_CODE_AFFECTED        object\n",
       "OPERATOR_AFFECTED                  object\n",
       "ENGLISH_DAY_TYPE                   object\n",
       "APP_TIMETABLE_FLAG_AFF             object\n",
       "TRAIN_SCHEDULE_TYPE_AFFECTED       object\n",
       "TRACTION_TYPE_AFFECTED             object\n",
       "TRAILING_LOAD_AFFECTED            float64\n",
       "TIMING_LOAD_AFFECTED               object\n",
       "UNIT_CLASS_AFFECTED               float64\n",
       "INCIDENT_NUMBER                     int64\n",
       "INCIDENT_CREATE_DATE               object\n",
       "INCIDENT_START_DATETIME            object\n",
       "INCIDENT_END_DATETIME              object\n",
       "SECTION_CODE                       object\n",
       "NETWORK_RAIL_LOCATION_MANAGER      object\n",
       "RESPONSIBLE_MANAGER                object\n",
       "INCIDENT_REASON                    object\n",
       "ATTRIBUTION_STATUS                 object\n",
       "INCIDENT_EQUIPMENT                 object\n",
       "INCIDENT_DESCRIPTION               object\n",
       "REACTIONARY_REASON_CODE            object\n",
       "INCIDENT_RESPONSIBLE_TRAIN         object\n",
       "PERFORMANCE_EVENT_CODE             object\n",
       "START_STANOX                        int64\n",
       "END_STANOX                          int64\n",
       "EVENT_DATETIME                     object\n",
       "PFPI_MINUTES                      float64\n",
       "TRUST_TRAIN_ID_RESP                object\n",
       "TRUST_TRAIN_ID_REACT               object\n",
       "dtype: object"
      ]
     },
     "execution_count": 5,
     "metadata": {},
     "output_type": "execute_result"
    }
   ],
   "source": [
    "df.head()\n",
    "df.dtypes\n"
   ]
  },
  {
   "cell_type": "markdown",
   "metadata": {},
   "source": [
    "# Obtain pre-processed dataframe"
   ]
  },
  {
   "cell_type": "code",
   "execution_count": 6,
   "metadata": {},
   "outputs": [
    {
     "name": "stderr",
     "output_type": "stream",
     "text": [
      "/Users/Debora/.pyenv/versions/3.10.6/envs/TrainDelays/lib/python3.10/site-packages/sklearn/preprocessing/_encoders.py:975: FutureWarning: `sparse` was renamed to `sparse_output` in version 1.2 and will be removed in 1.4. `sparse_output` is ignored unless you leave `sparse` to its default value.\n",
      "  warnings.warn(\n"
     ]
    }
   ],
   "source": [
    "clean_df = process_2019(df)\n"
   ]
  },
  {
   "cell_type": "code",
   "execution_count": 7,
   "metadata": {},
   "outputs": [
    {
     "data": {
      "text/plain": [
       "ORIGIN_DEPARTURE_DATE              object\n",
       "TRUST_TRAIN_ID_AFFECTED            object\n",
       "PLANNED_ORIG_LOC_CODE_AFF           int64\n",
       "PLANNED_DEST_LOC_CODE_AFFECTED      int64\n",
       "PFPI_MINUTES                      float64\n",
       "                                   ...   \n",
       "OPERATOR_AFFECTED_XC              float64\n",
       "OPERATOR_AFFECTED_XE              float64\n",
       "OPERATOR_AFFECTED_XH              float64\n",
       "CANCELLATIONS                     float64\n",
       "DELAYS                            float64\n",
       "Length: 68, dtype: object"
      ]
     },
     "execution_count": 7,
     "metadata": {},
     "output_type": "execute_result"
    }
   ],
   "source": [
    "clean_df.head()\n",
    "clean_df.dtypes\n"
   ]
  },
  {
   "cell_type": "markdown",
   "metadata": {},
   "source": [
    "#### 1) Try mapping the Stanox Codes of origin and destination (\"PLANNED_ORIG_LOC_CODE_AFF) and (\"PLANNED_DEST_LOC_CODE_AFFECTED) with this csv: https://github.com/alexfrancisross/NetworkRail/blob/master/Stanox-Station-Lookup.csv"
   ]
  },
  {
   "cell_type": "code",
   "execution_count": 8,
   "metadata": {},
   "outputs": [],
   "source": [
    "mapping_df = pd.read_csv(\"../raw_data/Stanox-Station-Lookup.csv\", sep = \";\")\n",
    "mapping_df.head()\n",
    "null_coordinates_mask = (mapping_df['Latitude'].isnull()) & (mapping_df['Longitude'].isnull())\n",
    "mapping_df = mapping_df[~null_coordinates_mask]\n",
    "mapping_df = mapping_df[['Stanox','Latitude','Latitude']]\n"
   ]
  },
  {
   "cell_type": "code",
   "execution_count": 9,
   "metadata": {},
   "outputs": [],
   "source": [
    "clean_df_lat_long_1 = pd.merge(mapping_df,\n",
    "                      clean_df,\n",
    "                      left_on ='Stanox',\n",
    "                      right_on = 'PLANNED_ORIG_LOC_CODE_AFF' ,\n",
    "                      how ='right')\n"
   ]
  },
  {
   "cell_type": "code",
   "execution_count": 10,
   "metadata": {},
   "outputs": [
    {
     "name": "stdout",
     "output_type": "stream",
     "text": [
      "Percentage of observations in the period 01 of 2018-2019 without longitude and latitude: 17.293403305383944\n"
     ]
    }
   ],
   "source": [
    "print(f\"Percentage of observations in the period 01 of 2018-2019 without longitude and latitude: {clean_df_lat_long_1.Stanox.isnull().sum()/clean_df_lat_long_1.shape[0]*100}\")\n"
   ]
  },
  {
   "cell_type": "code",
   "execution_count": 11,
   "metadata": {},
   "outputs": [
    {
     "data": {
      "text/html": [
       "<div>\n",
       "<style scoped>\n",
       "    .dataframe tbody tr th:only-of-type {\n",
       "        vertical-align: middle;\n",
       "    }\n",
       "\n",
       "    .dataframe tbody tr th {\n",
       "        vertical-align: top;\n",
       "    }\n",
       "\n",
       "    .dataframe thead th {\n",
       "        text-align: right;\n",
       "    }\n",
       "</style>\n",
       "<table border=\"1\" class=\"dataframe\">\n",
       "  <thead>\n",
       "    <tr style=\"text-align: right;\">\n",
       "      <th></th>\n",
       "      <th>Stanox</th>\n",
       "      <th>Latitude</th>\n",
       "      <th>Latitude</th>\n",
       "      <th>ORIGIN_DEPARTURE_DATE</th>\n",
       "      <th>TRUST_TRAIN_ID_AFFECTED</th>\n",
       "      <th>PLANNED_ORIG_LOC_CODE_AFF</th>\n",
       "      <th>PLANNED_DEST_LOC_CODE_AFFECTED</th>\n",
       "      <th>PFPI_MINUTES</th>\n",
       "      <th>ENGLISH_DAY_TYPE_BH</th>\n",
       "      <th>ENGLISH_DAY_TYPE_SA</th>\n",
       "      <th>...</th>\n",
       "      <th>OPERATOR_AFFECTED_RZ</th>\n",
       "      <th>OPERATOR_AFFECTED_W1</th>\n",
       "      <th>OPERATOR_AFFECTED_WA</th>\n",
       "      <th>OPERATOR_AFFECTED_X1</th>\n",
       "      <th>OPERATOR_AFFECTED_X2</th>\n",
       "      <th>OPERATOR_AFFECTED_XC</th>\n",
       "      <th>OPERATOR_AFFECTED_XE</th>\n",
       "      <th>OPERATOR_AFFECTED_XH</th>\n",
       "      <th>CANCELLATIONS</th>\n",
       "      <th>DELAYS</th>\n",
       "    </tr>\n",
       "  </thead>\n",
       "  <tbody>\n",
       "    <tr>\n",
       "      <th>0</th>\n",
       "      <td>1100.0</td>\n",
       "      <td>57.479852</td>\n",
       "      <td>57.479852</td>\n",
       "      <td>01-APR-18</td>\n",
       "      <td>011B44MN01</td>\n",
       "      <td>1100</td>\n",
       "      <td>4303</td>\n",
       "      <td>6.0</td>\n",
       "      <td>0.0</td>\n",
       "      <td>0.0</td>\n",
       "      <td>...</td>\n",
       "      <td>0.0</td>\n",
       "      <td>0.0</td>\n",
       "      <td>0.0</td>\n",
       "      <td>0.0</td>\n",
       "      <td>0.0</td>\n",
       "      <td>0.0</td>\n",
       "      <td>0.0</td>\n",
       "      <td>0.0</td>\n",
       "      <td>1.0</td>\n",
       "      <td>0.0</td>\n",
       "    </tr>\n",
       "    <tr>\n",
       "      <th>1</th>\n",
       "      <td>1100.0</td>\n",
       "      <td>57.479852</td>\n",
       "      <td>57.479852</td>\n",
       "      <td>01-APR-18</td>\n",
       "      <td>011E17MF01</td>\n",
       "      <td>1100</td>\n",
       "      <td>54311</td>\n",
       "      <td>7.0</td>\n",
       "      <td>0.0</td>\n",
       "      <td>0.0</td>\n",
       "      <td>...</td>\n",
       "      <td>0.0</td>\n",
       "      <td>0.0</td>\n",
       "      <td>0.0</td>\n",
       "      <td>0.0</td>\n",
       "      <td>0.0</td>\n",
       "      <td>0.0</td>\n",
       "      <td>0.0</td>\n",
       "      <td>0.0</td>\n",
       "      <td>1.0</td>\n",
       "      <td>0.0</td>\n",
       "    </tr>\n",
       "    <tr>\n",
       "      <th>2</th>\n",
       "      <td>1100.0</td>\n",
       "      <td>57.479852</td>\n",
       "      <td>57.479852</td>\n",
       "      <td>01-APR-18</td>\n",
       "      <td>011M16MZ01</td>\n",
       "      <td>1100</td>\n",
       "      <td>72410</td>\n",
       "      <td>50.0</td>\n",
       "      <td>0.0</td>\n",
       "      <td>0.0</td>\n",
       "      <td>...</td>\n",
       "      <td>0.0</td>\n",
       "      <td>0.0</td>\n",
       "      <td>0.0</td>\n",
       "      <td>0.0</td>\n",
       "      <td>0.0</td>\n",
       "      <td>0.0</td>\n",
       "      <td>0.0</td>\n",
       "      <td>0.0</td>\n",
       "      <td>1.0</td>\n",
       "      <td>0.0</td>\n",
       "    </tr>\n",
       "    <tr>\n",
       "      <th>3</th>\n",
       "      <td>1100.0</td>\n",
       "      <td>57.479852</td>\n",
       "      <td>57.479852</td>\n",
       "      <td>01-APR-18</td>\n",
       "      <td>011M16MZ01</td>\n",
       "      <td>1100</td>\n",
       "      <td>72410</td>\n",
       "      <td>3.0</td>\n",
       "      <td>0.0</td>\n",
       "      <td>0.0</td>\n",
       "      <td>...</td>\n",
       "      <td>0.0</td>\n",
       "      <td>0.0</td>\n",
       "      <td>0.0</td>\n",
       "      <td>0.0</td>\n",
       "      <td>0.0</td>\n",
       "      <td>0.0</td>\n",
       "      <td>0.0</td>\n",
       "      <td>0.0</td>\n",
       "      <td>1.0</td>\n",
       "      <td>0.0</td>\n",
       "    </tr>\n",
       "    <tr>\n",
       "      <th>4</th>\n",
       "      <td>1100.0</td>\n",
       "      <td>57.479852</td>\n",
       "      <td>57.479852</td>\n",
       "      <td>01-APR-18</td>\n",
       "      <td>011T80ML01</td>\n",
       "      <td>1100</td>\n",
       "      <td>6401</td>\n",
       "      <td>7.0</td>\n",
       "      <td>0.0</td>\n",
       "      <td>0.0</td>\n",
       "      <td>...</td>\n",
       "      <td>0.0</td>\n",
       "      <td>0.0</td>\n",
       "      <td>0.0</td>\n",
       "      <td>0.0</td>\n",
       "      <td>0.0</td>\n",
       "      <td>0.0</td>\n",
       "      <td>0.0</td>\n",
       "      <td>0.0</td>\n",
       "      <td>1.0</td>\n",
       "      <td>0.0</td>\n",
       "    </tr>\n",
       "  </tbody>\n",
       "</table>\n",
       "<p>5 rows × 71 columns</p>\n",
       "</div>"
      ],
      "text/plain": [
       "   Stanox   Latitude   Latitude ORIGIN_DEPARTURE_DATE TRUST_TRAIN_ID_AFFECTED  \\\n",
       "0  1100.0  57.479852  57.479852             01-APR-18              011B44MN01   \n",
       "1  1100.0  57.479852  57.479852             01-APR-18              011E17MF01   \n",
       "2  1100.0  57.479852  57.479852             01-APR-18              011M16MZ01   \n",
       "3  1100.0  57.479852  57.479852             01-APR-18              011M16MZ01   \n",
       "4  1100.0  57.479852  57.479852             01-APR-18              011T80ML01   \n",
       "\n",
       "   PLANNED_ORIG_LOC_CODE_AFF  PLANNED_DEST_LOC_CODE_AFFECTED  PFPI_MINUTES  \\\n",
       "0                       1100                            4303           6.0   \n",
       "1                       1100                           54311           7.0   \n",
       "2                       1100                           72410          50.0   \n",
       "3                       1100                           72410           3.0   \n",
       "4                       1100                            6401           7.0   \n",
       "\n",
       "   ENGLISH_DAY_TYPE_BH  ENGLISH_DAY_TYPE_SA  ...  OPERATOR_AFFECTED_RZ  \\\n",
       "0                  0.0                  0.0  ...                   0.0   \n",
       "1                  0.0                  0.0  ...                   0.0   \n",
       "2                  0.0                  0.0  ...                   0.0   \n",
       "3                  0.0                  0.0  ...                   0.0   \n",
       "4                  0.0                  0.0  ...                   0.0   \n",
       "\n",
       "   OPERATOR_AFFECTED_W1  OPERATOR_AFFECTED_WA  OPERATOR_AFFECTED_X1  \\\n",
       "0                   0.0                   0.0                   0.0   \n",
       "1                   0.0                   0.0                   0.0   \n",
       "2                   0.0                   0.0                   0.0   \n",
       "3                   0.0                   0.0                   0.0   \n",
       "4                   0.0                   0.0                   0.0   \n",
       "\n",
       "   OPERATOR_AFFECTED_X2  OPERATOR_AFFECTED_XC  OPERATOR_AFFECTED_XE  \\\n",
       "0                   0.0                   0.0                   0.0   \n",
       "1                   0.0                   0.0                   0.0   \n",
       "2                   0.0                   0.0                   0.0   \n",
       "3                   0.0                   0.0                   0.0   \n",
       "4                   0.0                   0.0                   0.0   \n",
       "\n",
       "   OPERATOR_AFFECTED_XH  CANCELLATIONS  DELAYS  \n",
       "0                   0.0            1.0     0.0  \n",
       "1                   0.0            1.0     0.0  \n",
       "2                   0.0            1.0     0.0  \n",
       "3                   0.0            1.0     0.0  \n",
       "4                   0.0            1.0     0.0  \n",
       "\n",
       "[5 rows x 71 columns]"
      ]
     },
     "execution_count": 11,
     "metadata": {},
     "output_type": "execute_result"
    }
   ],
   "source": [
    "clean_df_lat_long_1.head()\n"
   ]
  },
  {
   "cell_type": "markdown",
   "metadata": {},
   "source": [
    "#### 2) Try mapping the Stanox Codes of origin and destination (\"PLANNED_ORIG_LOC_CODE_AFF) and (\"PLANNED_DEST_LOC_CODE_AFFECTED) with the scraped locations name; and then find the logitude/latitude on the basis of the location name."
   ]
  },
  {
   "cell_type": "code",
   "execution_count": 30,
   "metadata": {},
   "outputs": [],
   "source": [
    "stanox_locations_mapping = pd.read_csv(\"../raw_data/stanox_locations_mapping.csv\")[['Location','STANOX']]\n",
    "# ToDo keep only rows where the stanox code is made up of numbers\n"
   ]
  }
 ],
 "metadata": {
  "kernelspec": {
   "display_name": "Python 3 (ipykernel)",
   "language": "python",
   "name": "python3"
  },
  "language_info": {
   "codemirror_mode": {
    "name": "ipython",
    "version": 3
   },
   "file_extension": ".py",
   "mimetype": "text/x-python",
   "name": "python",
   "nbconvert_exporter": "python",
   "pygments_lexer": "ipython3",
   "version": "3.10.6"
  },
  "toc": {
   "base_numbering": 1,
   "nav_menu": {},
   "number_sections": true,
   "sideBar": true,
   "skip_h1_title": false,
   "title_cell": "Table of Contents",
   "title_sidebar": "Contents",
   "toc_cell": false,
   "toc_position": {},
   "toc_section_display": true,
   "toc_window_display": false
  }
 },
 "nbformat": 4,
 "nbformat_minor": 2
}
