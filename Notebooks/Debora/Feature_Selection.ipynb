{
 "cells": [
  {
   "cell_type": "markdown",
   "metadata": {},
   "source": [
    "**Table of contents**<a id='toc0_'></a>    \n",
    "- [Feature Selection](#toc1_1_)    \n",
    "    - [Load the data downloaded by Network Rail and filtered by the London Overground operator](#toc1_1_1_)    \n",
    "    - [Train - Test split](#toc1_1_2_)    \n",
    "    - [Initial feature overview](#toc1_1_3_)    \n",
    "    - [Indepth feature analysis](#toc1_1_4_)    \n",
    "      - [Departure and Arrival Station](#toc1_1_4_1_)    \n",
    "      - [Timetable information](#toc1_1_4_2_)    \n",
    "      - [Other timing information](#toc1_1_4_3_)    \n",
    "      - [Trailing](#toc1_1_4_4_)    \n",
    "      - [Reactionary delays](#toc1_1_4_5_)    \n",
    "      - [Delays caused by incident](#toc1_1_4_6_)    \n",
    "      - [Affected train information](#toc1_1_4_7_)    \n",
    "      - [Other fields](#toc1_1_4_8_)    \n",
    "\n",
    "<!-- vscode-jupyter-toc-config\n",
    "\tnumbering=false\n",
    "\tanchor=true\n",
    "\tflat=false\n",
    "\tminLevel=1\n",
    "\tmaxLevel=6\n",
    "\t/vscode-jupyter-toc-config -->\n",
    "<!-- THIS CELL WILL BE REPLACED ON TOC UPDATE. DO NOT WRITE YOUR TEXT IN THIS CELL -->"
   ]
  },
  {
   "cell_type": "markdown",
   "metadata": {},
   "source": [
    "## <a id='toc1_1_'></a>[Feature Selection](#toc0_)"
   ]
  },
  {
   "cell_type": "code",
   "execution_count": 107,
   "metadata": {},
   "outputs": [],
   "source": [
    "import pandas as pd\n",
    "from sklearn.model_selection import train_test_split"
   ]
  },
  {
   "cell_type": "markdown",
   "metadata": {},
   "source": [
    "### <a id='toc1_1_1_'></a>[Load the data downloaded by Network Rail and filtered by the London Overground operator](#toc0_)"
   ]
  },
  {
   "cell_type": "code",
   "execution_count": 108,
   "metadata": {},
   "outputs": [],
   "source": [
    "df = pd.read_pickle('./data/processed/df.pkl')"
   ]
  },
  {
   "cell_type": "code",
   "execution_count": 27,
   "metadata": {},
   "outputs": [
    {
     "data": {
      "text/html": [
       "<div>\n",
       "<style scoped>\n",
       "    .dataframe tbody tr th:only-of-type {\n",
       "        vertical-align: middle;\n",
       "    }\n",
       "\n",
       "    .dataframe tbody tr th {\n",
       "        vertical-align: top;\n",
       "    }\n",
       "\n",
       "    .dataframe thead th {\n",
       "        text-align: right;\n",
       "    }\n",
       "</style>\n",
       "<table border=\"1\" class=\"dataframe\">\n",
       "  <thead>\n",
       "    <tr style=\"text-align: right;\">\n",
       "      <th></th>\n",
       "      <th>FINANCIAL_YEAR_AND_PERIOD</th>\n",
       "      <th>ORIGIN_DEPARTURE_DATE</th>\n",
       "      <th>TRUST_TRAIN_ID_AFFECTED</th>\n",
       "      <th>PLANNED_ORIG_LOC_CODE_AFF</th>\n",
       "      <th>PLANNED_ORIG_WTT_DATETIME_AFF</th>\n",
       "      <th>PLANNED_ORIG_GBTT_DATETIME_AFF</th>\n",
       "      <th>PLANNED_DEST_LOC_CODE_AFFECTED</th>\n",
       "      <th>PLANNED_DEST_WTT_DATETIME_AFF</th>\n",
       "      <th>PLANNED_DEST_GBTT_DATETIME_AFF</th>\n",
       "      <th>TRAIN_SERVICE_CODE_AFFECTED</th>\n",
       "      <th>...</th>\n",
       "      <th>INCIDENT_RESPONSIBLE_TRAIN</th>\n",
       "      <th>RESP_TRAIN</th>\n",
       "      <th>REACT_TRAIN</th>\n",
       "      <th>PERFORMANCE_EVENT_CODE</th>\n",
       "      <th>START_STANOX</th>\n",
       "      <th>END_STANOX</th>\n",
       "      <th>EVENT_DATETIME</th>\n",
       "      <th>PFPI_MINUTES</th>\n",
       "      <th>UNNAMED: 40</th>\n",
       "      <th>UNNAMED: 41</th>\n",
       "    </tr>\n",
       "  </thead>\n",
       "  <tbody>\n",
       "    <tr>\n",
       "      <th>0</th>\n",
       "      <td>2020/21_P01</td>\n",
       "      <td>01-Apr-20</td>\n",
       "      <td>879D681801</td>\n",
       "      <td>87651.0</td>\n",
       "      <td>2020-01-04 22:09:00</td>\n",
       "      <td>2020-01-04 22:09:00</td>\n",
       "      <td>52051.0</td>\n",
       "      <td>2020-01-04 22:59:00</td>\n",
       "      <td>2020-01-04 23:04:00</td>\n",
       "      <td>22215003.0</td>\n",
       "      <td>...</td>\n",
       "      <td>2K67</td>\n",
       "      <td>872K671801</td>\n",
       "      <td>872K671801</td>\n",
       "      <td>M</td>\n",
       "      <td>87643.0</td>\n",
       "      <td>87643.0</td>\n",
       "      <td>01/04/2020 22:19</td>\n",
       "      <td>5.0</td>\n",
       "      <td>NaN</td>\n",
       "      <td>NaN</td>\n",
       "    </tr>\n",
       "    <tr>\n",
       "      <th>1</th>\n",
       "      <td>2020/21_P01</td>\n",
       "      <td>01-Apr-20</td>\n",
       "      <td>879H411R01</td>\n",
       "      <td>87219.0</td>\n",
       "      <td>2020-01-04 15:30:00</td>\n",
       "      <td>2020-01-04 15:30:00</td>\n",
       "      <td>52051.0</td>\n",
       "      <td>2020-01-04 16:21:00</td>\n",
       "      <td>2020-01-04 16:26:00</td>\n",
       "      <td>22218000.0</td>\n",
       "      <td>...</td>\n",
       "      <td>9H41</td>\n",
       "      <td>879H411R01</td>\n",
       "      <td>NaN</td>\n",
       "      <td>M</td>\n",
       "      <td>87609.0</td>\n",
       "      <td>87568.0</td>\n",
       "      <td>01/04/2020 16:03</td>\n",
       "      <td>5.0</td>\n",
       "      <td>NaN</td>\n",
       "      <td>NaN</td>\n",
       "    </tr>\n",
       "    <tr>\n",
       "      <th>2</th>\n",
       "      <td>2020/21_P01</td>\n",
       "      <td>01-Apr-20</td>\n",
       "      <td>512D191C01</td>\n",
       "      <td>51815.0</td>\n",
       "      <td>2020-01-04 08:16:00</td>\n",
       "      <td>2020-01-04 08:16:00</td>\n",
       "      <td>52741.0</td>\n",
       "      <td>2020-01-04 08:55:00</td>\n",
       "      <td>2020-01-04 09:00:00</td>\n",
       "      <td>21234001.0</td>\n",
       "      <td>...</td>\n",
       "      <td>2D19</td>\n",
       "      <td>512D191C01</td>\n",
       "      <td>NaN</td>\n",
       "      <td>M</td>\n",
       "      <td>51815.0</td>\n",
       "      <td>51815.0</td>\n",
       "      <td>01/04/2020 08:22</td>\n",
       "      <td>6.0</td>\n",
       "      <td>NaN</td>\n",
       "      <td>NaN</td>\n",
       "    </tr>\n",
       "    <tr>\n",
       "      <th>3</th>\n",
       "      <td>2020/21_P01</td>\n",
       "      <td>01-Apr-20</td>\n",
       "      <td>879H671801</td>\n",
       "      <td>87219.0</td>\n",
       "      <td>2020-01-04 22:00:00</td>\n",
       "      <td>2020-01-04 22:00:00</td>\n",
       "      <td>52051.0</td>\n",
       "      <td>2020-01-04 22:51:00</td>\n",
       "      <td>2020-01-04 22:56:00</td>\n",
       "      <td>22206000.0</td>\n",
       "      <td>...</td>\n",
       "      <td>2J66</td>\n",
       "      <td>872J661701</td>\n",
       "      <td>872J661701</td>\n",
       "      <td>M</td>\n",
       "      <td>87208.0</td>\n",
       "      <td>87609.0</td>\n",
       "      <td>01/04/2020 22:19</td>\n",
       "      <td>4.0</td>\n",
       "      <td>NaN</td>\n",
       "      <td>NaN</td>\n",
       "    </tr>\n",
       "    <tr>\n",
       "      <th>4</th>\n",
       "      <td>2020/21_P01</td>\n",
       "      <td>01-Apr-20</td>\n",
       "      <td>872L151A01</td>\n",
       "      <td>87219.0</td>\n",
       "      <td>2020-01-04 07:26:00</td>\n",
       "      <td>2020-01-04 07:26:00</td>\n",
       "      <td>52226.0</td>\n",
       "      <td>2020-01-04 08:31:00</td>\n",
       "      <td>2020-01-04 08:31:00</td>\n",
       "      <td>22204000.0</td>\n",
       "      <td>...</td>\n",
       "      <td>2M15</td>\n",
       "      <td>872M151A01</td>\n",
       "      <td>NaN</td>\n",
       "      <td>M</td>\n",
       "      <td>72241.0</td>\n",
       "      <td>72241.0</td>\n",
       "      <td>01/04/2020 07:39</td>\n",
       "      <td>3.0</td>\n",
       "      <td>NaN</td>\n",
       "      <td>NaN</td>\n",
       "    </tr>\n",
       "  </tbody>\n",
       "</table>\n",
       "<p>5 rows × 41 columns</p>\n",
       "</div>"
      ],
      "text/plain": [
       "  FINANCIAL_YEAR_AND_PERIOD ORIGIN_DEPARTURE_DATE TRUST_TRAIN_ID_AFFECTED  \\\n",
       "0               2020/21_P01             01-Apr-20              879D681801   \n",
       "1               2020/21_P01             01-Apr-20              879H411R01   \n",
       "2               2020/21_P01             01-Apr-20              512D191C01   \n",
       "3               2020/21_P01             01-Apr-20              879H671801   \n",
       "4               2020/21_P01             01-Apr-20              872L151A01   \n",
       "\n",
       "  PLANNED_ORIG_LOC_CODE_AFF PLANNED_ORIG_WTT_DATETIME_AFF  \\\n",
       "0                   87651.0           2020-01-04 22:09:00   \n",
       "1                   87219.0           2020-01-04 15:30:00   \n",
       "2                   51815.0           2020-01-04 08:16:00   \n",
       "3                   87219.0           2020-01-04 22:00:00   \n",
       "4                   87219.0           2020-01-04 07:26:00   \n",
       "\n",
       "  PLANNED_ORIG_GBTT_DATETIME_AFF PLANNED_DEST_LOC_CODE_AFFECTED  \\\n",
       "0            2020-01-04 22:09:00                        52051.0   \n",
       "1            2020-01-04 15:30:00                        52051.0   \n",
       "2            2020-01-04 08:16:00                        52741.0   \n",
       "3            2020-01-04 22:00:00                        52051.0   \n",
       "4            2020-01-04 07:26:00                        52226.0   \n",
       "\n",
       "  PLANNED_DEST_WTT_DATETIME_AFF PLANNED_DEST_GBTT_DATETIME_AFF  \\\n",
       "0           2020-01-04 22:59:00            2020-01-04 23:04:00   \n",
       "1           2020-01-04 16:21:00            2020-01-04 16:26:00   \n",
       "2           2020-01-04 08:55:00            2020-01-04 09:00:00   \n",
       "3           2020-01-04 22:51:00            2020-01-04 22:56:00   \n",
       "4           2020-01-04 08:31:00            2020-01-04 08:31:00   \n",
       "\n",
       "  TRAIN_SERVICE_CODE_AFFECTED  ... INCIDENT_RESPONSIBLE_TRAIN  RESP_TRAIN  \\\n",
       "0                  22215003.0  ...                       2K67  872K671801   \n",
       "1                  22218000.0  ...                       9H41  879H411R01   \n",
       "2                  21234001.0  ...                       2D19  512D191C01   \n",
       "3                  22206000.0  ...                       2J66  872J661701   \n",
       "4                  22204000.0  ...                       2M15  872M151A01   \n",
       "\n",
       "  REACT_TRAIN PERFORMANCE_EVENT_CODE START_STANOX END_STANOX  \\\n",
       "0  872K671801                      M      87643.0    87643.0   \n",
       "1         NaN                      M      87609.0    87568.0   \n",
       "2         NaN                      M      51815.0    51815.0   \n",
       "3  872J661701                      M      87208.0    87609.0   \n",
       "4         NaN                      M      72241.0    72241.0   \n",
       "\n",
       "     EVENT_DATETIME PFPI_MINUTES UNNAMED: 40 UNNAMED: 41  \n",
       "0  01/04/2020 22:19          5.0         NaN         NaN  \n",
       "1  01/04/2020 16:03          5.0         NaN         NaN  \n",
       "2  01/04/2020 08:22          6.0         NaN         NaN  \n",
       "3  01/04/2020 22:19          4.0         NaN         NaN  \n",
       "4  01/04/2020 07:39          3.0         NaN         NaN  \n",
       "\n",
       "[5 rows x 41 columns]"
      ]
     },
     "execution_count": 27,
     "metadata": {},
     "output_type": "execute_result"
    }
   ],
   "source": [
    "df.head()"
   ]
  },
  {
   "cell_type": "markdown",
   "metadata": {},
   "source": [
    "### <a id='toc1_1_2_'></a>[Train - Test split](#toc0_)"
   ]
  },
  {
   "cell_type": "code",
   "execution_count": 109,
   "metadata": {},
   "outputs": [],
   "source": [
    "X = df.drop(columns ='PFPI_MINUTES')\n",
    "y = df['PFPI_MINUTES']\n",
    "X_train, X_test, y_train, y_test = train_test_split(X, y, test_size=0.33, random_state=42)\n"
   ]
  },
  {
   "cell_type": "markdown",
   "metadata": {},
   "source": [
    "### <a id='toc1_1_3_'></a>[Initial feature overview](#toc0_)"
   ]
  },
  {
   "cell_type": "markdown",
   "metadata": {},
   "source": [
    "The majority of the features are categorical, with a lot of unique values. `OneHotEncode` all of them is not feasible, as our feature matrix `X_preproc` would become pretty big and sparse."
   ]
  },
  {
   "cell_type": "code",
   "execution_count": 111,
   "metadata": {},
   "outputs": [
    {
     "data": {
      "text/plain": [
       "Index(['FINANCIAL_YEAR_AND_PERIOD', 'ORIGIN_DEPARTURE_DATE',\n",
       "       'TRUST_TRAIN_ID_AFFECTED', 'PLANNED_ORIG_LOC_CODE_AFF',\n",
       "       'PLANNED_ORIG_WTT_DATETIME_AFF', 'PLANNED_ORIG_GBTT_DATETIME_AFF',\n",
       "       'PLANNED_DEST_LOC_CODE_AFFECTED', 'PLANNED_DEST_WTT_DATETIME_AFF',\n",
       "       'PLANNED_DEST_GBTT_DATETIME_AFF', 'TRAIN_SERVICE_CODE_AFFECTED',\n",
       "       'SERVICE_GROUP_CODE_AFFECTED', 'OPERATOR_AFFECTED', 'ENGLISH_DAY_TYPE',\n",
       "       'APP_TIMETABLE_FLAG_AFF', 'TRAIN_SCHEDULE_TYPE_AFFECTED',\n",
       "       'TRACTION_TYPE_AFFECTED', 'TRAILING_LOAD_AFFECTED',\n",
       "       'TIMING_LOAD_AFFECTED', 'UNIT_CLASS_AFFECTED', 'INCIDENT_NUMBER',\n",
       "       'INCIDENT_CREATE_DATE', 'INCIDENT_START_DATETIME',\n",
       "       'INCIDENT_END_DATETIME', 'SECTION_CODE',\n",
       "       'NETWORK_RAIL_LOCATION_MANAGER', 'RESPONSIBLE_MANAGER',\n",
       "       'INCIDENT_REASON', 'ATTRIBUTION_STATUS', 'INCIDENT_EQUIPMENT',\n",
       "       'INCIDENT_DESCRIPTION', 'REACTIONARY_REASON_CODE',\n",
       "       'INCIDENT_RESPONSIBLE_TRAIN', 'RESP_TRAIN', 'REACT_TRAIN',\n",
       "       'PERFORMANCE_EVENT_CODE', 'START_STANOX', 'END_STANOX',\n",
       "       'EVENT_DATETIME', 'UNNAMED: 40', 'UNNAMED: 41'],\n",
       "      dtype='object')"
      ]
     },
     "execution_count": 111,
     "metadata": {},
     "output_type": "execute_result"
    }
   ],
   "source": [
    "X.dtypes.value_counts()\n",
    "X.columns"
   ]
  },
  {
   "cell_type": "code",
   "execution_count": 48,
   "metadata": {},
   "outputs": [
    {
     "data": {
      "text/plain": [
       "EVENT_DATETIME                    127060\n",
       "TRUST_TRAIN_ID_AFFECTED            75170\n",
       "REACT_TRAIN                        49539\n",
       "INCIDENT_NUMBER                    38239\n",
       "INCIDENT_DESCRIPTION               32758\n",
       "RESP_TRAIN                         24830\n",
       "INCIDENT_RESPONSIBLE_TRAIN         11489\n",
       "INCIDENT_EQUIPMENT                  6679\n",
       "SECTION_CODE                        1633\n",
       "RESPONSIBLE_MANAGER                  828\n",
       "ORIGIN_DEPARTURE_DATE                734\n",
       "END_STANOX                           240\n",
       "START_STANOX                         235\n",
       "INCIDENT_REASON                      211\n",
       "PLANNED_ORIG_LOC_CODE_AFF            174\n",
       "PLANNED_DEST_LOC_CODE_AFFECTED       163\n",
       "NETWORK_RAIL_LOCATION_MANAGER         70\n",
       "FINANCIAL_YEAR_AND_PERIOD             67\n",
       "TRAIN_SERVICE_CODE_AFFECTED           28\n",
       "REACTIONARY_REASON_CODE               19\n",
       "UNIT_CLASS_AFFECTED                   15\n",
       "SERVICE_GROUP_CODE_AFFECTED            6\n",
       "ENGLISH_DAY_TYPE                       5\n",
       "TRAIN_SCHEDULE_TYPE_AFFECTED           4\n",
       "ATTRIBUTION_STATUS                     3\n",
       "TRACTION_TYPE_AFFECTED                 3\n",
       "TIMING_LOAD_AFFECTED                   2\n",
       "APP_TIMETABLE_FLAG_AFF                 2\n",
       "PERFORMANCE_EVENT_CODE                 2\n",
       "TRAILING_LOAD_AFFECTED                 1\n",
       "OPERATOR_AFFECTED                      1\n",
       "dtype: int64"
      ]
     },
     "execution_count": 48,
     "metadata": {},
     "output_type": "execute_result"
    }
   ],
   "source": [
    "feat_categorical_nunique = X.select_dtypes(include='object').nunique().sort_values(ascending = False)\n",
    "print(feat_categorical_nunique)"
   ]
  },
  {
   "cell_type": "code",
   "execution_count": 61,
   "metadata": {},
   "outputs": [
    {
     "data": {
      "text/plain": [
       "TRAILING_LOAD_AFFECTED            0.621005\n",
       "TIMING_LOAD_AFFECTED              0.621005\n",
       "RESP_TRAIN                        0.317426\n",
       "REACT_TRAIN                       0.310087\n",
       "REACTIONARY_REASON_CODE           0.302483\n",
       "INCIDENT_RESPONSIBLE_TRAIN        0.294313\n",
       "INCIDENT_EQUIPMENT                0.290213\n",
       "PLANNED_ORIG_GBTT_DATETIME_AFF    0.142573\n",
       "PLANNED_DEST_GBTT_DATETIME_AFF    0.142573\n",
       "UNIT_CLASS_AFFECTED               0.011258\n",
       "TRACTION_TYPE_AFFECTED            0.011095\n",
       "INCIDENT_REASON                   0.000162\n",
       "INCIDENT_NUMBER                   0.000052\n",
       "INCIDENT_START_DATETIME           0.000052\n",
       "NETWORK_RAIL_LOCATION_MANAGER     0.000052\n",
       "RESPONSIBLE_MANAGER               0.000052\n",
       "INCIDENT_DESCRIPTION              0.000052\n",
       "ATTRIBUTION_STATUS                0.000052\n",
       "SECTION_CODE                      0.000052\n",
       "INCIDENT_END_DATETIME             0.000052\n",
       "PERFORMANCE_EVENT_CODE            0.000000\n",
       "START_STANOX                      0.000000\n",
       "END_STANOX                        0.000000\n",
       "FINANCIAL_YEAR_AND_PERIOD         0.000000\n",
       "INCIDENT_CREATE_DATE              0.000000\n",
       "ORIGIN_DEPARTURE_DATE             0.000000\n",
       "TRAIN_SCHEDULE_TYPE_AFFECTED      0.000000\n",
       "APP_TIMETABLE_FLAG_AFF            0.000000\n",
       "ENGLISH_DAY_TYPE                  0.000000\n",
       "OPERATOR_AFFECTED                 0.000000\n",
       "SERVICE_GROUP_CODE_AFFECTED       0.000000\n",
       "TRAIN_SERVICE_CODE_AFFECTED       0.000000\n",
       "PLANNED_DEST_WTT_DATETIME_AFF     0.000000\n",
       "PLANNED_DEST_LOC_CODE_AFFECTED    0.000000\n",
       "PLANNED_ORIG_WTT_DATETIME_AFF     0.000000\n",
       "PLANNED_ORIG_LOC_CODE_AFF         0.000000\n",
       "TRUST_TRAIN_ID_AFFECTED           0.000000\n",
       "EVENT_DATETIME                    0.000000\n",
       "dtype: float64"
      ]
     },
     "execution_count": 61,
     "metadata": {},
     "output_type": "execute_result"
    }
   ],
   "source": [
    "X.isna().sum().sort_values(ascending=False)/len(X)"
   ]
  },
  {
   "cell_type": "markdown",
   "metadata": {},
   "source": [
    "### <a id='toc1_1_4_'></a>[Indepth feature analysis](#toc0_)"
   ]
  },
  {
   "cell_type": "markdown",
   "metadata": {},
   "source": [
    "#### <a id='toc1_1_4_1_'></a>[Departure and Arrival Station](#toc0_)"
   ]
  },
  {
   "cell_type": "markdown",
   "metadata": {},
   "source": [
    "The data reports both the planned departure/arrival locations and the effective departure/arrival locations. These might be differ, for example if the train journey is cut short after a delay. Only the planned locations ('PLANNED_ORIG_LOC_CODE_AFF','PLANNED_DEST_LOC_CODE_AFFECTED') will be retained. Since they have too many unique values,they will have to be converted into geographical coordinates."
   ]
  },
  {
   "cell_type": "code",
   "execution_count": 103,
   "metadata": {},
   "outputs": [
    {
     "name": "stdout",
     "output_type": "stream",
     "text": [
      "Value Counts\n"
     ]
    },
    {
     "data": {
      "text/plain": [
       "PLANNED_ORIG_LOC_CODE_AFF  PLANNED_DEST_LOC_CODE_AFFECTED  START_STANOX  END_STANOX\n",
       "72419.0                    51531.0                         51558.0       51541.0       4771\n",
       "87219.0                    52226.0                         72275.0       72419.0       2522\n",
       "87132.0                    52226.0                         72275.0       72419.0       2335\n",
       "72410.0                    72000.0                         72277.0       72017.0       2290\n",
       "52226.0                    87219.0                         72419.0       72275.0       2271\n",
       "                                                                                       ... \n",
       "72271.0                    51529.0                         51531.0       51529.0          1\n",
       "                                                           72271.0       72419.0          1\n",
       "52226                      87219                           52226         72421            1\n",
       "72271.0                    51531.0                         72271.0       72419.0          1\n",
       "50328                      50401.0                         50328.0       50334            1\n",
       "Name: count, Length: 3323, dtype: int64"
      ]
     },
     "metadata": {},
     "output_type": "display_data"
    },
    {
     "name": "stdout",
     "output_type": "stream",
     "text": [
      "Missing Values\n"
     ]
    },
    {
     "data": {
      "text/plain": [
       "PLANNED_ORIG_LOC_CODE_AFF         0.0\n",
       "PLANNED_DEST_LOC_CODE_AFFECTED    0.0\n",
       "START_STANOX                      0.0\n",
       "END_STANOX                        0.0\n",
       "dtype: float64"
      ]
     },
     "metadata": {},
     "output_type": "display_data"
    },
    {
     "name": "stdout",
     "output_type": "stream",
     "text": [
      "Unique Values\n"
     ]
    },
    {
     "data": {
      "text/plain": [
       "PLANNED_ORIG_LOC_CODE_AFF         174\n",
       "PLANNED_DEST_LOC_CODE_AFFECTED    163\n",
       "START_STANOX                      235\n",
       "END_STANOX                        240\n",
       "dtype: int64"
      ]
     },
     "metadata": {},
     "output_type": "display_data"
    }
   ],
   "source": [
    "print(\"Value Counts\")\n",
    "display(X[['PLANNED_ORIG_LOC_CODE_AFF','PLANNED_DEST_LOC_CODE_AFFECTED', 'START_STANOX', 'END_STANOX']].value_counts(dropna=False))\n",
    "print(\"Missing Values\")\n",
    "display(X[['PLANNED_ORIG_LOC_CODE_AFF','PLANNED_DEST_LOC_CODE_AFFECTED', 'START_STANOX', 'END_STANOX']].isna().sum()/len(X))\n",
    "print(\"Unique Values\")\n",
    "display(X[['PLANNED_ORIG_LOC_CODE_AFF','PLANNED_DEST_LOC_CODE_AFFECTED', 'START_STANOX', 'END_STANOX']].nunique())"
   ]
  },
  {
   "cell_type": "markdown",
   "metadata": {},
   "source": [
    "#### <a id='toc1_1_4_2_'></a>[Timetable information](#toc0_)"
   ]
  },
  {
   "cell_type": "markdown",
   "metadata": {},
   "source": [
    "* 'PLANNED_ORIG_WTT_DATETIME_AFF', 'PLANNED_DEST_WTT_DATETIME_AFF': The working timetable (WTT) is the rail industry’s version of the public national timetable. It shows all movements on the rail network including freight trains, empty trains and those coming in and out of depots.\n",
    "* 'PLANNED_DEST_GBTT_DATETIME_AFF', 'PLANNED_ORIG_GBTT_DATETIME_AFF': GBTT times are those which appear in the published timetable and delays are calculated against. \n",
    "* 'APP_TIMETABLE_FLAG_AFF': Applicable timetable flag – if N the train is not in official performance records as it is a short term replacement of a train plan – normally a reinstatement of part of a cancelled service.\n",
    "\n",
    "Since we are interested in passenger trains, we will take into account the GBTT timetable. NAs are likely to be in correspondance of freight trains or movements not including passengers."
   ]
  },
  {
   "cell_type": "code",
   "execution_count": 113,
   "metadata": {},
   "outputs": [
    {
     "name": "stdout",
     "output_type": "stream",
     "text": [
      "Value Counts\n"
     ]
    },
    {
     "data": {
      "text/plain": [
       "PLANNED_ORIG_WTT_DATETIME_AFF  PLANNED_DEST_WTT_DATETIME_AFF  PLANNED_DEST_GBTT_DATETIME_AFF  PLANNED_ORIG_GBTT_DATETIME_AFF  APP_TIMETABLE_FLAG_AFF\n",
       "2018-11-12 08:23:00            2018-11-12 08:59:00            2018-11-12 09:03:00             2018-11-12 08:23:00             Y                         12\n",
       "2019-10-12 19:14:00            2019-10-12 20:16:00            2019-10-12 20:21:00             2019-10-12 19:14:00             Y                         12\n",
       "2019-10-12 19:09:00            2019-10-12 20:11:00            2019-10-12 20:14:00             2019-10-12 19:09:00             Y                         11\n",
       "2020-12-14 11:47:00            2020-12-14 12:39:00            2020-12-14 12:39:00             2020-12-14 11:47:00             Y                         11\n",
       "2019-01-09 16:32:00            2019-01-09 17:25:00            2019-01-09 17:28:00             2019-01-09 16:32:00             Y                          9\n",
       "                                                                                                                                                        ..\n",
       "2020-08-09 11:10:00            2020-08-09 11:36:00            2020-08-09 11:37:00             2020-08-09 11:10:00             Y                          1\n",
       "2020-08-09 11:05:00            2020-08-09 11:39:00            2020-08-09 11:39:00             2020-08-09 11:05:00             Y                          1\n",
       "2020-08-09 10:50:00            2020-08-09 11:24:00            2020-08-09 11:24:00             2020-08-09 10:50:00             Y                          1\n",
       "2020-08-09 10:48:00            2020-08-09 11:23:00            2020-08-09 11:23:00             2020-08-09 10:48:00             Y                          1\n",
       "2023-05-07 23:48:00            2023-05-08 00:14:00            NaT                             NaT                             Y                          1\n",
       "Name: count, Length: 121259, dtype: int64"
      ]
     },
     "metadata": {},
     "output_type": "display_data"
    },
    {
     "name": "stdout",
     "output_type": "stream",
     "text": [
      "Missing Values\n"
     ]
    },
    {
     "data": {
      "text/plain": [
       "PLANNED_ORIG_WTT_DATETIME_AFF     0.000000\n",
       "PLANNED_DEST_WTT_DATETIME_AFF     0.000000\n",
       "PLANNED_DEST_GBTT_DATETIME_AFF    0.142573\n",
       "PLANNED_ORIG_GBTT_DATETIME_AFF    0.142573\n",
       "APP_TIMETABLE_FLAG_AFF            0.000000\n",
       "dtype: float64"
      ]
     },
     "metadata": {},
     "output_type": "display_data"
    },
    {
     "name": "stdout",
     "output_type": "stream",
     "text": [
      "Unique Values\n"
     ]
    },
    {
     "data": {
      "text/plain": [
       "PLANNED_ORIG_WTT_DATETIME_AFF     110452\n",
       "PLANNED_DEST_WTT_DATETIME_AFF     110846\n",
       "PLANNED_DEST_GBTT_DATETIME_AFF     95310\n",
       "PLANNED_ORIG_GBTT_DATETIME_AFF     95279\n",
       "APP_TIMETABLE_FLAG_AFF                 2\n",
       "dtype: int64"
      ]
     },
     "metadata": {},
     "output_type": "display_data"
    }
   ],
   "source": [
    "print(\"Value Counts\")\n",
    "display(X[['PLANNED_ORIG_WTT_DATETIME_AFF','PLANNED_DEST_WTT_DATETIME_AFF', 'PLANNED_DEST_GBTT_DATETIME_AFF', 'PLANNED_ORIG_GBTT_DATETIME_AFF','APP_TIMETABLE_FLAG_AFF']].value_counts(dropna=False))\n",
    "print(\"Missing Values\")\n",
    "display(X[['PLANNED_ORIG_WTT_DATETIME_AFF','PLANNED_DEST_WTT_DATETIME_AFF', 'PLANNED_DEST_GBTT_DATETIME_AFF', 'PLANNED_ORIG_GBTT_DATETIME_AFF','APP_TIMETABLE_FLAG_AFF']].isna().sum()/len(X))\n",
    "print(\"Unique Values\")\n",
    "display(X[['PLANNED_ORIG_WTT_DATETIME_AFF','PLANNED_DEST_WTT_DATETIME_AFF', 'PLANNED_DEST_GBTT_DATETIME_AFF', 'PLANNED_ORIG_GBTT_DATETIME_AFF','APP_TIMETABLE_FLAG_AFF']].nunique())"
   ]
  },
  {
   "cell_type": "markdown",
   "metadata": {},
   "source": [
    "#### <a id='toc1_1_4_3_'></a>[Other timing information](#toc0_)"
   ]
  },
  {
   "cell_type": "markdown",
   "metadata": {},
   "source": [
    "* 'FINANCIAL_YEAR_AND_PERIOD': The “railway” period that the delay occurred in.\n",
    "* 'ORIGIN_DEPARTURE_DATE': The date of the train within the system\n",
    "* 'ENGLISH_DAY_TYPE': Weekday, Saturday, Sunday, bank holiday, Christmas.\n",
    "* 'INCIDENT_CREATE_DATE': The date the incident was entered into the system\n",
    "* 'INCIDENT_START_DATETIME': The date the system has the incident live (this is not the length of the incident\n",
    "on the ground).\n",
    "* 'INCIDENT_END_DATETIME': The date the system has the incident live (this is not the length of the incident\n",
    "on the ground).\n",
    "* 'EVENT_DATETIME': The time the train encountered the delay.\n",
    "\n",
    "'FINANCIAL_YEAR_AND_PERIOD' refers to a fiscal period, so it can be dropped. 'ORIGIN_DEPARTURE_DATE' overlaps with the timetable departure date, so it can be dropped. Since 'INCIDENT_START_DATETIME' and 'INCIDENT_END_DATETIME' does not coincide with the length of the incident on the ground, but it is again administrative, it can be dropped."
   ]
  },
  {
   "cell_type": "code",
   "execution_count": 146,
   "metadata": {},
   "outputs": [
    {
     "name": "stdout",
     "output_type": "stream",
     "text": [
      "Value Counts\n"
     ]
    },
    {
     "data": {
      "text/plain": [
       "FINANCIAL_YEAR_AND_PERIOD  ORIGIN_DEPARTURE_DATE  ENGLISH_DAY_TYPE  INCIDENT_CREATE_DATE  INCIDENT_START_DATETIME  INCIDENT_END_DATETIME  EVENT_DATETIME   \n",
       "2018/19_P07                16/09/2018 00:00       SU                2018-09-16            2018-09-16 21:50:00      2018-09-17 06:00:00    16-SEP-2018 22:12    5\n",
       "2019/20_P12                07-Feb-20              WD                2020-02-07            2020-07-02 06:45:00      2020-07-02 15:00:00    07/02/2020 07:43     4\n",
       "2019/20_P10                08-Dec-19              SU                2019-12-08            2019-08-12 16:00:00      2019-09-12 01:07:00    08/12/2019 15:39     4\n",
       "2019/20_P06                18-Aug-19              SU                2019-08-18            2019-08-18 10:27:00      2019-08-18 12:27:00    18/08/2019 12:32     4\n",
       "                           22-Aug-19              WD                2019-08-23            2019-08-22 19:00:00      2019-08-22 23:00:00    22/08/2019 20:23     4\n",
       "                                                                                                                                                              ..\n",
       "2020/21_P03                15-Jun-20              WD                2020-06-14            2020-06-15 00:01:00      2020-06-15 23:59:00    15/06/2020 21:20     1\n",
       "                                                                    2020-06-11            2020-06-14 07:45:00      2020-06-21 00:25:00    16/06/2020 00:10     1\n",
       "                                                                                                                                          15/06/2020 23:34     1\n",
       "                                                                                                                                          15/06/2020 23:16     1\n",
       "2023/24_P02                30-APR-23              SU                2023-05-04            2023-04-30 21:27:00      2023-04-30 22:15:00    30-APR-2023 21:37    1\n",
       "Name: count, Length: 149283, dtype: int64"
      ]
     },
     "metadata": {},
     "output_type": "display_data"
    },
    {
     "name": "stdout",
     "output_type": "stream",
     "text": [
      "Missing Values\n"
     ]
    },
    {
     "data": {
      "text/plain": [
       "FINANCIAL_YEAR_AND_PERIOD    0.000000\n",
       "ORIGIN_DEPARTURE_DATE        0.000000\n",
       "ENGLISH_DAY_TYPE             0.000000\n",
       "INCIDENT_CREATE_DATE         0.000000\n",
       "INCIDENT_START_DATETIME      0.000052\n",
       "INCIDENT_END_DATETIME        0.000052\n",
       "EVENT_DATETIME               0.000000\n",
       "dtype: float64"
      ]
     },
     "metadata": {},
     "output_type": "display_data"
    },
    {
     "name": "stdout",
     "output_type": "stream",
     "text": [
      "Unique Values\n"
     ]
    },
    {
     "data": {
      "text/plain": [
       "FINANCIAL_YEAR_AND_PERIOD        67\n",
       "ORIGIN_DEPARTURE_DATE           734\n",
       "ENGLISH_DAY_TYPE                  5\n",
       "INCIDENT_CREATE_DATE           1148\n",
       "INCIDENT_START_DATETIME       35149\n",
       "INCIDENT_END_DATETIME         35738\n",
       "EVENT_DATETIME               127060\n",
       "dtype: int64"
      ]
     },
     "metadata": {},
     "output_type": "display_data"
    }
   ],
   "source": [
    "timing_info = ['FINANCIAL_YEAR_AND_PERIOD','ORIGIN_DEPARTURE_DATE','ENGLISH_DAY_TYPE','INCIDENT_CREATE_DATE','INCIDENT_START_DATETIME',\n",
    "               'INCIDENT_END_DATETIME','EVENT_DATETIME']\n",
    "print(\"Value Counts\")\n",
    "display(X[timing_info].value_counts(dropna=False))\n",
    "print(\"Missing Values\")\n",
    "display(X[timing_info].isna().sum()/len(X))\n",
    "print(\"Unique Values\")\n",
    "display(X[timing_info].nunique())"
   ]
  },
  {
   "cell_type": "markdown",
   "metadata": {},
   "source": [
    "#### <a id='toc1_1_4_4_'></a>[Trailing](#toc0_)"
   ]
  },
  {
   "cell_type": "markdown",
   "metadata": {},
   "source": [
    "TRAILING_LOAD_AFFECTED and TIMING_LOAD_AFFECTED are features pertaining to freight trains only, not passenger ones.\n",
    "The London Overground trains are passenger trains, therefore this explains why this fields are basically empty."
   ]
  },
  {
   "cell_type": "code",
   "execution_count": 85,
   "metadata": {},
   "outputs": [
    {
     "data": {
      "text/plain": [
       "TRAILING_LOAD_AFFECTED\n",
       "NaN    95708\n",
       "       58410\n",
       "Name: count, dtype: int64"
      ]
     },
     "metadata": {},
     "output_type": "display_data"
    },
    {
     "data": {
      "text/plain": [
       "TIMING_LOAD_AFFECTED\n",
       "NaN    95708\n",
       "       58278\n",
       "S        132\n",
       "Name: count, dtype: int64"
      ]
     },
     "metadata": {},
     "output_type": "display_data"
    }
   ],
   "source": [
    "display(X['TRAILING_LOAD_AFFECTED'].value_counts(dropna=False))\n",
    "display(X['TIMING_LOAD_AFFECTED'].value_counts(dropna=False))"
   ]
  },
  {
   "cell_type": "markdown",
   "metadata": {},
   "source": [
    "#### <a id='toc1_1_4_5_'></a>[Reactionary delays](#toc0_)"
   ]
  },
  {
   "cell_type": "markdown",
   "metadata": {},
   "source": [
    "Reactionary delays are delays that are caused by the late arrival of another train, crew, or passengers. \n",
    "\n",
    "* REACT_TRAIN is the id of the train which caused the reactionary delay. The missing values might be imputed in case the incident is primay and not reactionary.\n",
    "* REACTIONARY_REASON_CODE is filled out with a code identifying a main category of delay (for example \"RT\" is reactionary delay caused by loading lugagge). If no code, the delay is primary (ie the delay is at the site of the incident). The reactionary codes are too many to one-hot encode them. One solution might be to try to map them to macro-categories of reactionary codes.\n",
    "\n",
    "A strategy could be to drop REACT_TRAIN, which has an high percentage of NAs and a lot of unique values, and to transform REACTIONARY_REASON_CODE in a binary variable (1 if delay is reactionary in nature, 0 otherwise)."
   ]
  },
  {
   "cell_type": "code",
   "execution_count": 97,
   "metadata": {},
   "outputs": [
    {
     "name": "stdout",
     "output_type": "stream",
     "text": [
      "Value Counts\n"
     ]
    },
    {
     "data": {
      "text/plain": [
       "REACT_TRAIN\n",
       "NaN           47790\n",
       "              26379\n",
       "872L21MY10       19\n",
       "512D57MB12       18\n",
       "879D11MC01       17\n",
       "              ...  \n",
       "725Z241K04        1\n",
       "872L31M804        1\n",
       "872N39M804        1\n",
       "872F22MG04        1\n",
       "875M572P14        1\n",
       "Name: count, Length: 49540, dtype: int64"
      ]
     },
     "metadata": {},
     "output_type": "display_data"
    },
    {
     "name": "stdout",
     "output_type": "stream",
     "text": [
      "Missing Values\n"
     ]
    },
    {
     "data": {
      "text/plain": [
       "REACT_TRAIN                0.310087\n",
       "REACTIONARY_REASON_CODE    0.302483\n",
       "dtype: float64"
      ]
     },
     "metadata": {},
     "output_type": "display_data"
    },
    {
     "name": "stdout",
     "output_type": "stream",
     "text": [
      "Unique Values\n"
     ]
    },
    {
     "data": {
      "text/plain": [
       "REACT_TRAIN                49539\n",
       "REACTIONARY_REASON_CODE       19\n",
       "dtype: int64"
      ]
     },
     "metadata": {},
     "output_type": "display_data"
    }
   ],
   "source": [
    "print(\"Value Counts\")\n",
    "display(X['REACT_TRAIN'].value_counts(dropna=False))\n",
    "X['REACTIONARY_REASON_CODE'].value_counts(dropna=False)\n",
    "print(\"Missing Values\")\n",
    "display(X[['REACT_TRAIN','REACTIONARY_REASON_CODE']].isna().sum()/len(X))\n",
    "print(\"Unique Values\")\n",
    "display(X[['REACT_TRAIN','REACTIONARY_REASON_CODE']].nunique())"
   ]
  },
  {
   "cell_type": "markdown",
   "metadata": {},
   "source": [
    "#### <a id='toc1_1_4_6_'></a>[Delays caused by incident](#toc0_)"
   ]
  },
  {
   "cell_type": "markdown",
   "metadata": {},
   "source": [
    "* INCIDENT_RESPONSIBLE_TRAIN is the ID of the train that initially caused the incident (if any).\n",
    "* RESP_TRAIN is another ID derived from INCIDENT_RESPONSIBLE_TRAIN (4,5,6,7 digits of the INCIDENT_RESPONSIBLE_TRAIN)\n",
    "* INCIDENT_EQUIPMENT is a internal free form information.\n",
    "* INCIDENT_REASON is the the Delay Attribution Guide cause code for the incident.\n",
    "* INCIDENT_DESCRIPTION is a description of the incident.\n",
    "* INCIDENT_NUMBER is a numeric identifier of the incident.\n",
    "\n",
    "\n",
    "A strategy might be to drop INCIDENT_RESPONSIBLE_TRAIN and RESP_TRAIN (which are identification codes) with a lot of unique and NA values. INCIDENT_NUMBER and INCIDENT_EQUIPMENT should be dropped as well because they have too many unique values to encode. INCIDENT_DESCRIPTION can be dropped. INCIDENT_REASON has quite a lot of unique values as well, but they might be redirected to macrocategory thanks to https://sacuksprodnrdigital0001.blob.core.windows.net/historic-delay-attribution/Reference%20Files/Transpareny%20Page%20Attribution%20Glossary.xlsx."
   ]
  },
  {
   "cell_type": "code",
   "execution_count": 99,
   "metadata": {},
   "outputs": [
    {
     "name": "stdout",
     "output_type": "stream",
     "text": [
      "Value Counts\n"
     ]
    },
    {
     "data": {
      "text/plain": [
       "INCIDENT_RESPONSIBLE_TRAIN  RESP_TRAIN  INCIDENT_EQUIPMENT  INCIDENT_REASON  INCIDENT_NUMBER\n",
       "NaN                         NaN         71.21               JD               618312.0           2596\n",
       "                                        070A.21             JD               618289.0           1775\n",
       "                                        153860              JS               21250.0            1633\n",
       "                                        181230              IS               258363.0           1393\n",
       "NaN                         NaN         95.2                IS               961349.0           1170\n",
       "                                                                                                ... \n",
       "4E24                        514E24CH26                      OC               840634.0              1\n",
       "                            514E24CH18                      AC               44128.0               1\n",
       "                            514E24CH16                      AJ               59765.0               1\n",
       "                            514E24CH12  DEPEARLY            AC               284267.0              1\n",
       "5J97                        NaN         NaN                 OC               435415.0              1\n",
       "Name: count, Length: 39196, dtype: int64"
      ]
     },
     "metadata": {},
     "output_type": "display_data"
    },
    {
     "name": "stdout",
     "output_type": "stream",
     "text": [
      "Missing Values\n"
     ]
    },
    {
     "data": {
      "text/plain": [
       "INCIDENT_RESPONSIBLE_TRAIN    0.294313\n",
       "RESP_TRAIN                    0.317426\n",
       "INCIDENT_EQUIPMENT            0.290213\n",
       "INCIDENT_REASON               0.000162\n",
       "INCIDENT_NUMBER               0.000052\n",
       "dtype: float64"
      ]
     },
     "metadata": {},
     "output_type": "display_data"
    },
    {
     "name": "stdout",
     "output_type": "stream",
     "text": [
      "Unique Values\n"
     ]
    },
    {
     "data": {
      "text/plain": [
       "INCIDENT_RESPONSIBLE_TRAIN    11489\n",
       "RESP_TRAIN                    24830\n",
       "INCIDENT_EQUIPMENT             6679\n",
       "INCIDENT_REASON                 211\n",
       "INCIDENT_NUMBER               38239\n",
       "dtype: int64"
      ]
     },
     "metadata": {},
     "output_type": "display_data"
    }
   ],
   "source": [
    "print(\"Value Counts\")\n",
    "display(X[['INCIDENT_RESPONSIBLE_TRAIN','RESP_TRAIN','INCIDENT_EQUIPMENT','INCIDENT_REASON','INCIDENT_NUMBER']].value_counts(dropna=False))\n",
    "print(\"Missing Values\")\n",
    "display(X[['INCIDENT_RESPONSIBLE_TRAIN','RESP_TRAIN','INCIDENT_EQUIPMENT','INCIDENT_REASON','INCIDENT_NUMBER']].isna().sum()/len(X))\n",
    "print(\"Unique Values\")\n",
    "display(X[['INCIDENT_RESPONSIBLE_TRAIN','RESP_TRAIN','INCIDENT_EQUIPMENT','INCIDENT_REASON','INCIDENT_NUMBER']].nunique())"
   ]
  },
  {
   "cell_type": "markdown",
   "metadata": {},
   "source": [
    "#### <a id='toc1_1_4_7_'></a>[Affected train information](#toc0_)"
   ]
  },
  {
   "cell_type": "markdown",
   "metadata": {},
   "source": [
    "* 'TRUST_TRAIN_ID_AFFECTED' : Train identifier. Train ids are unique within a railway period\n",
    "but not within a year – the same train in the timetable should have the same 8 digit trainid the last two\n",
    "digits are the day of the month.\n",
    "* 'TRAIN_SERVICE_CODE_AFFECTED': Train service code, which identify a type of train service, at the point where the delay occurred.\n",
    "* 'SERVICE_GROUP_CODE_AFFECTED': Business code assigned to train operating companies.\n",
    "* 'OPERATOR_AFFECTED': The operator code of the train affected.\n",
    "* 'TRAIN_SCHEDULE_TYPE_AFFECTED': type of schedule.\n",
    "* 'TRACTION_TYPE_AFFECTED': Type of traction power of the train.\n",
    "* 'UNIT_CLASS_AFFECTED': A unit train is a freight train carrying the same type of commodity, from origin to destination.\n",
    "* 'SECTION_CODE': Seems to be the section between station covered by the train.\n",
    "\n",
    "The operator code is always the same (EK - London Overground), therefore OPERATOR_AFFECTED can be dropped.\n",
    "The section code can be dropped as well as it has too many unique values and its information overlap with the the departure and arrival station. The TRUST_TRAIN_ID_AFFECTED is an identifier and it has too many numbers, therefore will be dropped.\n",
    "\n"
   ]
  },
  {
   "cell_type": "code",
   "execution_count": 126,
   "metadata": {},
   "outputs": [
    {
     "name": "stdout",
     "output_type": "stream",
     "text": [
      "Value Counts\n"
     ]
    },
    {
     "data": {
      "text/plain": [
       "TRUST_TRAIN_ID_AFFECTED  TRAIN_SERVICE_CODE_AFFECTED  SERVICE_GROUP_CODE_AFFECTED  OPERATOR_AFFECTED  TRAIN_SCHEDULE_TYPE_AFFECTED  TRACTION_TYPE_AFFECTED  UNIT_CLASS_AFFECTED  SECTION_CODE\n",
       "872N27MY10               22214000.0                   EK01                         EK                 LTP                           EMU                     378.0                72251:72275     10\n",
       "872L23MY10               22204000.0                   EK01                         EK                 LTP                           EMU                     378.0                72251:72275     10\n",
       "872N45MO10               22214000.0                   EK01                         EK                 LTP                           EMU                     378.0                52226:52045      8\n",
       "872N49MP10               22214000.0                   EK01                         EK                 LTP                           EMU                     378.0                52226:52045      8\n",
       "873D70M917               22216001.0                   EK99                         EK                 LTP                           EMU                     378.0                87920            8\n",
       "                                                                                                                                                                                                 ..\n",
       "529A52MW29               22215003.0                   EK03                         EK                 LTP                           EMU                     378.0                52051:52074      1\n",
       "529A52MW26               22218000                     EK99                         EK                 LTP                           EMU                     375                  87568            1\n",
       "529A52MW22               22218000                     EK99                         EK                 LTP                           EMU                     378                  52084:87568      1\n",
       "529A52MW21               22218000.0                   EK99                         EK                 LTP                           EMU                     375.0                52084:87568      1\n",
       "889F72M929               22218000                     EK99                         EK                 LTP                           EMU                     375                  87643:87603      1\n",
       "Name: count, Length: 132686, dtype: int64"
      ]
     },
     "metadata": {},
     "output_type": "display_data"
    },
    {
     "name": "stdout",
     "output_type": "stream",
     "text": [
      "Missing Values\n"
     ]
    },
    {
     "data": {
      "text/plain": [
       "TRUST_TRAIN_ID_AFFECTED         0.000000\n",
       "TRAIN_SERVICE_CODE_AFFECTED     0.000000\n",
       "SERVICE_GROUP_CODE_AFFECTED     0.000000\n",
       "OPERATOR_AFFECTED               0.000000\n",
       "TRAIN_SCHEDULE_TYPE_AFFECTED    0.000000\n",
       "TRACTION_TYPE_AFFECTED          0.011095\n",
       "UNIT_CLASS_AFFECTED             0.011258\n",
       "SECTION_CODE                    0.000052\n",
       "dtype: float64"
      ]
     },
     "metadata": {},
     "output_type": "display_data"
    },
    {
     "name": "stdout",
     "output_type": "stream",
     "text": [
      "Unique Values\n"
     ]
    },
    {
     "data": {
      "text/plain": [
       "TRUST_TRAIN_ID_AFFECTED         75170\n",
       "TRAIN_SERVICE_CODE_AFFECTED        28\n",
       "SERVICE_GROUP_CODE_AFFECTED         6\n",
       "OPERATOR_AFFECTED                   1\n",
       "TRAIN_SCHEDULE_TYPE_AFFECTED        4\n",
       "TRACTION_TYPE_AFFECTED              3\n",
       "UNIT_CLASS_AFFECTED                15\n",
       "SECTION_CODE                     1633\n",
       "dtype: int64"
      ]
     },
     "metadata": {},
     "output_type": "display_data"
    }
   ],
   "source": [
    "print(\"Value Counts\")\n",
    "display(X[['TRUST_TRAIN_ID_AFFECTED','TRAIN_SERVICE_CODE_AFFECTED','SERVICE_GROUP_CODE_AFFECTED','OPERATOR_AFFECTED','TRAIN_SCHEDULE_TYPE_AFFECTED','TRACTION_TYPE_AFFECTED','UNIT_CLASS_AFFECTED','SECTION_CODE']].value_counts(dropna=False))\n",
    "print(\"Missing Values\")\n",
    "display(X[['TRUST_TRAIN_ID_AFFECTED','TRAIN_SERVICE_CODE_AFFECTED','SERVICE_GROUP_CODE_AFFECTED','OPERATOR_AFFECTED','TRAIN_SCHEDULE_TYPE_AFFECTED','TRACTION_TYPE_AFFECTED','UNIT_CLASS_AFFECTED','SECTION_CODE']].isna().sum()/len(X))\n",
    "print(\"Unique Values\")\n",
    "display(X[['TRUST_TRAIN_ID_AFFECTED','TRAIN_SERVICE_CODE_AFFECTED','SERVICE_GROUP_CODE_AFFECTED','OPERATOR_AFFECTED','TRAIN_SCHEDULE_TYPE_AFFECTED','TRACTION_TYPE_AFFECTED','UNIT_CLASS_AFFECTED','SECTION_CODE']].nunique())"
   ]
  },
  {
   "cell_type": "markdown",
   "metadata": {},
   "source": [
    "#### <a id='toc1_1_4_8_'></a>[Other fields](#toc0_)"
   ]
  },
  {
   "cell_type": "markdown",
   "metadata": {},
   "source": [
    "* 'NETWORK_RAIL_LOCATION_MANAGER': Affected train manager code\n",
    "* 'RESPONSIBLE_MANAGER': Responsible organisation of the train causing the delay\n",
    "* 'ATTRIBUTION_STATUS': All delays go through an acceptance process only once they are agreed is the linkage\n",
    " to the incident official.Disputed delays normally mean further investigation is ongoing about either\n",
    "the cause of the incident or the delay.\n",
    "* 'PERFORMANCE_EVENT_CODE': A and M denote delays, where A means the delay report has been automatic and B means the delay has been manual.\n",
    "\n",
    "We keep all the rows for which the attribution status is confirmed.\n",
    "We can try to reduce the unique values of RESPONSIBLE_MANAGER and NETWORK_RAIL_LOCATION_MANAGER by merging some categories."
   ]
  },
  {
   "cell_type": "code",
   "execution_count": 153,
   "metadata": {},
   "outputs": [
    {
     "name": "stdout",
     "output_type": "stream",
     "text": [
      "Value Counts\n"
     ]
    },
    {
     "data": {
      "text/plain": [
       "NETWORK_RAIL_LOCATION_MANAGER  RESPONSIBLE_MANAGER  ATTRIBUTION_STATUS    PERFORMANCE_EVENT_CODE\n",
       "OQHN                           OQHU                 Attribution Agreed    M                         8501\n",
       "OXCA                           TXCA                 Attribution Agreed    M                         5149\n",
       "OQHQ                           IQHP                 Attribution Agreed    M                         4830\n",
       "OQHP                           IQHP                 Attribution Agreed    A                         4748\n",
       "                                                    Attribution Disputed  A                         4579\n",
       "                                                                                                    ... \n",
       "OQHQ                           APEC                 Attribution Agreed    M                            1\n",
       "OQFO                           VHFK                 Attribution Agreed    M                            1\n",
       "OQNE                           MEKA                 Attribution Disputed  M                            1\n",
       "OQFO                           TEAI                 Attribution Agreed    M                            1\n",
       "OQHQ                           TEKN                 Attribution Disputed  M                            1\n",
       "Name: count, Length: 2628, dtype: int64"
      ]
     },
     "metadata": {},
     "output_type": "display_data"
    },
    {
     "name": "stdout",
     "output_type": "stream",
     "text": [
      "Missing Values\n"
     ]
    },
    {
     "data": {
      "text/plain": [
       "NETWORK_RAIL_LOCATION_MANAGER    0.000052\n",
       "RESPONSIBLE_MANAGER              0.000052\n",
       "ATTRIBUTION_STATUS               0.000052\n",
       "PERFORMANCE_EVENT_CODE           0.000000\n",
       "dtype: float64"
      ]
     },
     "metadata": {},
     "output_type": "display_data"
    },
    {
     "name": "stdout",
     "output_type": "stream",
     "text": [
      "Unique Values\n"
     ]
    },
    {
     "data": {
      "text/plain": [
       "NETWORK_RAIL_LOCATION_MANAGER     70\n",
       "RESPONSIBLE_MANAGER              828\n",
       "ATTRIBUTION_STATUS                 3\n",
       "PERFORMANCE_EVENT_CODE             2\n",
       "dtype: int64"
      ]
     },
     "metadata": {},
     "output_type": "display_data"
    }
   ],
   "source": [
    "other = ['NETWORK_RAIL_LOCATION_MANAGER','RESPONSIBLE_MANAGER','ATTRIBUTION_STATUS','PERFORMANCE_EVENT_CODE']\n",
    "print(\"Value Counts\")\n",
    "display(X[other].value_counts(dropna=False))\n",
    "print(\"Missing Values\")\n",
    "display(X[other].isna().sum()/len(X))\n",
    "print(\"Unique Values\")\n",
    "display(X[other].nunique())"
   ]
  }
 ],
 "metadata": {
  "kernelspec": {
   "display_name": "TrainDelays",
   "language": "python",
   "name": "python3"
  },
  "language_info": {
   "codemirror_mode": {
    "name": "ipython",
    "version": 3
   },
   "file_extension": ".py",
   "mimetype": "text/x-python",
   "name": "python",
   "nbconvert_exporter": "python",
   "pygments_lexer": "ipython3",
   "version": "3.10.6"
  }
 },
 "nbformat": 4,
 "nbformat_minor": 2
}
